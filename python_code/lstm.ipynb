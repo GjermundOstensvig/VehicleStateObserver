{
 "cells": [
  {
   "attachments": {},
   "cell_type": "markdown",
   "metadata": {},
   "source": [
    "# Long Short-Term Memory"
   ]
  },
  {
   "attachments": {},
   "cell_type": "markdown",
   "metadata": {},
   "source": [
    "LSTM is a recurrent neural network that is trained by using Backpropagation through time and overcomes the vanishing gradient problem."
   ]
  },
  {
   "cell_type": "code",
   "execution_count": 1,
   "metadata": {},
   "outputs": [],
   "source": [
    "# https://bobrupakroy.medium.com/lstms-for-regression-cc9b6677697f\n",
    "#LSTM for regression\n",
    "import numpy\n",
    "import matplotlib.pyplot as plt\n",
    "from pandas import read_csv\n",
    "import math\n",
    "from keras.models import Sequential\n",
    "from keras.layers import Dense\n",
    "from keras.layers import LSTM\n",
    "from sklearn.preprocessing import MinMaxScaler\n",
    "from sklearn.metrics import mean_squared_error\n",
    "from sklearn.model_selection import train_test_split\n",
    "#convert an array of values into a dataset matrix\n",
    "def create_dataset(dataset, look_back=1):\n",
    "    dataX, dataY = [], []\n",
    "    for i in range(len(dataset)-look_back-1):\n",
    "        a = dataset[i:(i+look_back), 0]\n",
    "        dataX.append(a)\n",
    "        dataY.append(dataset[i + look_back, 0])\n",
    "    return numpy.array(dataX), numpy.array(dataY)\n",
    "\n",
    "#random seed\n",
    "numpy.random.seed(7)"
   ]
  },
  {
   "attachments": {},
   "cell_type": "markdown",
   "metadata": {},
   "source": [
    "## Import CSV File and Normalize Data\n",
    "LSTMs are a bit sensitive to widespread scale of data. Even in all deep learning methods scaling the data range of 0 to 1 before fitting it to our algorithm is good practice that helps the algorithm to work faster and effectively."
   ]
  },
  {
   "cell_type": "code",
   "execution_count": 4,
   "metadata": {},
   "outputs": [
    {
     "data": {
      "text/plain": [
       "array([[0.0000000e+00, 7.3588330e-01, 3.8446051e-01, ..., 3.5288173e-01,\n",
       "        8.9999998e-01, 0.0000000e+00],\n",
       "       [5.0000002e-04, 7.1438134e-01, 3.8446054e-01, ..., 3.5288173e-01,\n",
       "        8.9999998e-01, 0.0000000e+00],\n",
       "       [1.0000000e-03, 7.2553414e-01, 3.8446057e-01, ..., 3.5288173e-01,\n",
       "        8.9999998e-01, 0.0000000e+00],\n",
       "       ...,\n",
       "       [9.9900001e-01, 7.3588234e-01, 3.8445246e-01, ..., 1.0000000e+00,\n",
       "        0.0000000e+00, 1.0000000e+00],\n",
       "       [9.9949998e-01, 7.3588240e-01, 3.8445151e-01, ..., 1.0000000e+00,\n",
       "        0.0000000e+00, 1.0000000e+00],\n",
       "       [1.0000000e+00, 7.3588246e-01, 3.8445106e-01, ..., 1.0000000e+00,\n",
       "        0.0000000e+00, 1.0000000e+00]], dtype=float32)"
      ]
     },
     "metadata": {},
     "output_type": "display_data"
    }
   ],
   "source": [
    "#load the dataset\n",
    "dataframe = read_csv('output.csv')\n",
    "dataset = dataframe.values\n",
    "dataset = dataset.astype('float32')\n",
    "#normalize the dataset\n",
    "scaler = MinMaxScaler(feature_range=(0, 1))\n",
    "dataset = scaler.fit_transform(dataset)"
   ]
  },
  {
   "cell_type": "code",
   "execution_count": 15,
   "metadata": {},
   "outputs": [
    {
     "name": "stdout",
     "output_type": "stream",
     "text": [
      "Shape of training data: (1340, 45)\n",
      "Shape of test data: (661, 45)\n"
     ]
    }
   ],
   "source": [
    "# Splitting dataset on training and test data. Unlike the randrom split we did for RF, this requires a chronological time series.\n",
    "import numpy as np \n",
    "\n",
    "train_set, test_set= np.split(dataset, [int(.67 *len(dataset))])\n",
    "print(f\"Shape of training data: {train_set.shape}\")\n",
    "print(f\"Shape of test data: {test_set.shape}\")"
   ]
  },
  {
   "attachments": {},
   "cell_type": "markdown",
   "metadata": {},
   "source": [
    "look_back is the number of previous time steps to be used as input for the next timestep."
   ]
  },
  {
   "cell_type": "code",
   "execution_count": 3,
   "metadata": {},
   "outputs": [
    {
     "ename": "NameError",
     "evalue": "name 'train' is not defined",
     "output_type": "error",
     "traceback": [
      "\u001b[1;31m---------------------------------------------------------------------------\u001b[0m",
      "\u001b[1;31mNameError\u001b[0m                                 Traceback (most recent call last)",
      "Cell \u001b[1;32mIn[3], line 3\u001b[0m\n\u001b[0;32m      1\u001b[0m \u001b[39m#reshape into X=t and Y=t+1\u001b[39;00m\n\u001b[0;32m      2\u001b[0m look_back \u001b[39m=\u001b[39m \u001b[39m1\u001b[39m\n\u001b[1;32m----> 3\u001b[0m trainX, trainY \u001b[39m=\u001b[39m create_dataset(train, look_back)\n\u001b[0;32m      4\u001b[0m testX, testY \u001b[39m=\u001b[39m create_dataset(test, look_back)\n",
      "\u001b[1;31mNameError\u001b[0m: name 'train' is not defined"
     ]
    }
   ],
   "source": [
    "#reshape into X=t and Y=t+1\n",
    "look_back = 1\n",
    "trainX, trainY = create_dataset(train, look_back)\n",
    "testX, testY = create_dataset(test, look_back)"
   ]
  },
  {
   "cell_type": "code",
   "execution_count": null,
   "metadata": {},
   "outputs": [],
   "source": [
    "# Bruke Mange til en (Mange tidsrammer til en output for trening.) \n",
    "# Sjekk for Overfitting\n",
    "# Undersøke shortcut learning."
   ]
  }
 ],
 "metadata": {
  "kernelspec": {
   "display_name": "venv",
   "language": "python",
   "name": "python3"
  },
  "language_info": {
   "codemirror_mode": {
    "name": "ipython",
    "version": 3
   },
   "file_extension": ".py",
   "mimetype": "text/x-python",
   "name": "python",
   "nbconvert_exporter": "python",
   "pygments_lexer": "ipython3",
   "version": "3.8.3"
  },
  "orig_nbformat": 4
 },
 "nbformat": 4,
 "nbformat_minor": 2
}
